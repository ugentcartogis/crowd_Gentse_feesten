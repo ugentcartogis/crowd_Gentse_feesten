{
 "cells": [
  {
   "cell_type": "code",
   "execution_count": 20,
   "id": "bfd2105b",
   "metadata": {
    "ExecuteTime": {
     "end_time": "2023-10-28T12:10:43.451440Z",
     "start_time": "2023-10-28T12:10:43.433191Z"
    }
   },
   "outputs": [],
   "source": [
    "import pandas as pd\n",
    "import matplotlib.pyplot as plt\n",
    "import numpy as np\n",
    "import datetime\n",
    "from scipy import stats #wilcoxon signed rank test, pearson corr\n",
    "import similaritymeasures #similarity measures for curves\n",
    "import pingouin as pg #cronbach alpha\n",
    "from statsmodels.stats.proportion import proportions_ztest # two proportions z test\n",
    "import re #wordcloud string processing\n",
    "from wordcloud import WordCloud #wordcloud\n",
    "from deep_translator import GoogleTranslator #wordclouds translate"
   ]
  },
  {
   "cell_type": "markdown",
   "id": "0b1089c4",
   "metadata": {
    "ExecuteTime": {
     "end_time": "2022-08-29T09:33:55.286586Z",
     "start_time": "2022-08-29T09:33:55.272158Z"
    }
   },
   "source": [
    "<h2> Read data</h2>"
   ]
  },
  {
   "cell_type": "code",
   "execution_count": 21,
   "id": "b7909dd3",
   "metadata": {
    "ExecuteTime": {
     "end_time": "2023-10-28T12:10:43.534596Z",
     "start_time": "2023-10-28T12:10:43.453018Z"
    }
   },
   "outputs": [],
   "source": [
    "#sensordata\n",
    "dfs = pd.read_csv('data_share/dfs.csv', parse_dates=True, index_col='Timestamp')\n",
    "#surveydata\n",
    "df = pd.read_csv('data_share/df.csv', parse_dates=True, index_col='Timestamp')\n",
    "#police intervention data\n",
    "dfpol = pd.read_csv('data_share/dfpol.csv', parse_dates=True, index_col='Timestamp')\n",
    "#first aid data\n",
    "dfrk = pd.read_csv('data_share/dfrk.csv', parse_dates=True, index_col='Timestamp')"
   ]
  },
  {
   "cell_type": "markdown",
   "id": "6e1006fd",
   "metadata": {},
   "source": [
    "<h2>Preprocessing</h2>"
   ]
  },
  {
   "cell_type": "markdown",
   "id": "cc6009c5",
   "metadata": {},
   "source": [
    "Survey data"
   ]
  },
  {
   "cell_type": "code",
   "execution_count": 22,
   "id": "47dae80b",
   "metadata": {
    "ExecuteTime": {
     "end_time": "2023-10-28T12:10:43.602340Z",
     "start_time": "2023-10-28T12:10:43.535688Z"
    }
   },
   "outputs": [],
   "source": [
    "#split up by location\n",
    "vlasmarkt = df[df['location']=='Vlasmarkt']\n",
    "belfortstraat = df.loc[df['location']=='Belfortstraat']\n",
    "stadshal = df.loc[df['location']=='Stadshal']\n",
    "\n",
    "#median per hour\n",
    "vlasmarktH = df.loc[df['location']=='Vlasmarkt'].resample('H').median()\n",
    "belfortstraatH = df.loc[df['location']=='Belfortstraat'].resample('H').median()\n",
    "stadshalH = df.loc[df['location']=='Stadshal'].resample('H').median()\n",
    "\n",
    "#rolling mean over 4 hours: human\n",
    "stadshaltrend = stadshal['human'].rolling('4H', center=True, min_periods=20).mean().to_frame()\n",
    "vlasmarkttrend = vlasmarkt['human'].rolling('4H', center=True, min_periods=20).mean().to_frame()\n",
    "belforttrend = belfortstraat['human'].rolling('4H', center=True, min_periods=5).mean().to_frame()\n",
    "#rolling mean over 4 hours: pleasure\n",
    "stadshaltrendP = stadshal['pleasure'].rolling('4H', center=True, min_periods=20).mean().to_frame()\n",
    "vlasmarkttrendP = vlasmarkt['pleasure'].rolling('4H', center=True, min_periods=20).mean().to_frame()\n",
    "belforttrendP = belfortstraat['pleasure'].rolling('4H', center=True, min_periods=5).mean().to_frame()\n",
    "#rolling mean over 4 hours: space\n",
    "stadshaltrendS = stadshal['spatial'].rolling('4H', center=True, min_periods=20).mean().to_frame()\n",
    "vlasmarkttrendS = vlasmarkt['spatial'].rolling('4H', center=True, min_periods=20).mean().to_frame()\n",
    "belforttrendS = belfortstraat['spatial'].rolling('4H', center=True, min_periods=5).mean().to_frame()\n",
    "#rolling mean over 4 hours: space inverse\n",
    "stadshaltrendSI = stadshal['spatialI'].rolling('4H', center=True, min_periods=20).mean().to_frame()\n",
    "vlasmarkttrendSI = vlasmarkt['spatialI'].rolling('4H', center=True, min_periods=20).mean().to_frame()\n",
    "belforttrendSI = belfortstraat['spatialI'].rolling('4H', center=True, min_periods=5).mean().to_frame()\n",
    "\n",
    "#rolling mean resampled per hour\n",
    "vlasmarkttrendSh = vlasmarkttrendS.resample('H').mean()\n",
    "vlasmarkttrendSIh = vlasmarkttrendSI.resample('H').mean()\n",
    "vlasmarkttrendh = vlasmarkttrend.resample('H').mean()\n",
    "vlasmarkttrendPh = vlasmarkttrendP.resample('H').mean()\n",
    "stadshaltrendSh = stadshaltrendS.resample('H').mean()\n",
    "stadshaltrendSIh = stadshaltrendSI.resample('H').mean()\n",
    "stadshaltrendh = stadshaltrend.resample('H').mean()\n",
    "stadshaltrendPh = stadshaltrendP.resample('H').mean()\n",
    "belforttrendSh = belforttrendS.resample('H').mean()\n",
    "belforttrendSIh = belforttrendSI.resample('H').mean()\n",
    "belforttrendh = belforttrend.resample('H').mean()\n",
    "belforttrendPh = belforttrendP.resample('H').mean()"
   ]
  },
  {
   "cell_type": "markdown",
   "id": "b71ceca1",
   "metadata": {},
   "source": [
    "Correlation and similarity analysis"
   ]
  },
  {
   "cell_type": "code",
   "execution_count": 23,
   "id": "0f80f6b4",
   "metadata": {
    "ExecuteTime": {
     "end_time": "2023-10-28T12:10:43.650418Z",
     "start_time": "2023-10-28T12:10:43.603785Z"
    }
   },
   "outputs": [
    {
     "name": "stderr",
     "output_type": "stream",
     "text": [
      "C:\\Users\\laure\\AppData\\Local\\Temp/ipykernel_35564/1760744375.py:59: UserWarning: Boolean Series key will be reindexed to match DataFrame index.\n",
      "  belfortccorr = dfsindex[maskbp]['Commissariaat']\n",
      "C:\\Users\\laure\\AppData\\Local\\Temp/ipykernel_35564/1760744375.py:60: UserWarning: Boolean Series key will be reindexed to match DataFrame index.\n",
      "  belfortcsim = dfsindex[maskbp][['index','belfortr']]\n"
     ]
    }
   ],
   "source": [
    "#numerical indexes\n",
    "vlaspindex = vlasmarkttrendPh.reset_index().reset_index()\n",
    "vlashindex = vlasmarkttrendh.reset_index().reset_index()\n",
    "vlassindex = vlasmarkttrendSIh.reset_index().reset_index()\n",
    "stadspindex = stadshaltrendPh.reset_index().reset_index()\n",
    "stadshindex = stadshaltrendh.reset_index().reset_index()\n",
    "stadssindex = stadshaltrendSIh.reset_index().reset_index()\n",
    "belfortpindex = belforttrendPh.reset_index().reset_index()\n",
    "belforthindex = belforttrendh.reset_index().reset_index()\n",
    "belfortsindex = belforttrendSIh.reset_index().reset_index()\n",
    "dfsindex = dfs.reset_index().reset_index()\n",
    "\n",
    "#scale sensor counts between 1 and 5\n",
    "rmin = dfsindex['Stadshal'].min()\n",
    "rmax = dfsindex['Stadshal'].max()\n",
    "dfsindex['vlasmarktr'] = (dfsindex['Vlasmarkt']-rmin)/(rmax-rmin)*4+1\n",
    "dfsindex['stadshalr'] = (dfsindex['Stadshal']-rmin)/(rmax-rmin)*4+1\n",
    "dfsindex['belfortr'] = (dfsindex['Commissariaat']-rmin)/(rmax-rmin)*4+1\n",
    "\n",
    "#filter hours with no ratings\n",
    "maskvp = vlaspindex['pleasure'].notna()\n",
    "masksp = stadspindex['pleasure'].notna()\n",
    "maskbp = belfortpindex['pleasure'].notna()\n",
    "maskbp[48]=False\n",
    "\n",
    "vlaspcorr = vlaspindex[maskvp]['pleasure']\n",
    "vlashcorr = vlashindex[maskvp]['human']\n",
    "vlasscorr = vlassindex[maskvp]['spatialI']\n",
    "vlasssim = vlassindex[maskvp][['index','spatialI']]\n",
    "vlasssimval = vlasssim.values\n",
    "vlashsim = vlashindex[maskvp][['index','human']]\n",
    "vlashsimval = vlashsim.values\n",
    "\n",
    "stadspcorr = stadspindex[masksp]['pleasure']\n",
    "stadshcorr = stadshindex[masksp]['human']\n",
    "stadsscorr = stadssindex[masksp]['spatialI']\n",
    "stadsssim = stadssindex[masksp][['index','spatialI']]\n",
    "stadsssimval = stadsssim.values\n",
    "stadshsim = stadshindex[masksp][['index','human']]\n",
    "stadshsimval = stadshsim.values\n",
    "\n",
    "belfortpcorr = belfortpindex[maskbp]['pleasure']\n",
    "belforthcorr = belforthindex[maskbp]['human']\n",
    "belfortscorr = belfortsindex[maskbp]['spatialI']\n",
    "belfortssim = belfortsindex[maskbp][['index','spatialI']]\n",
    "belfortssimval = belfortssim.values\n",
    "belforthsim = belforthindex[maskbp][['index','human']]\n",
    "belforthsimval = belforthsim.values\n",
    "\n",
    "vlasccorr = dfsindex[maskvp]['Vlasmarkt']\n",
    "vlascsim = dfsindex[maskvp][['index','vlasmarktr']]\n",
    "vlascsimval = vlascsim.values\n",
    "\n",
    "dfsindexs = dfsindex[:44]\n",
    "stadsccorr = dfsindexs[masksp]['Stadshal']\n",
    "stadscsim = dfsindexs[masksp][['index','stadshalr']]\n",
    "stadscsimval = stadscsim.values\n",
    "\n",
    "belfortccorr = dfsindex[maskbp]['Commissariaat']\n",
    "belfortcsim = dfsindex[maskbp][['index','belfortr']]\n",
    "belfortcsimval = belfortcsim.values\n"
   ]
  },
  {
   "cell_type": "markdown",
   "id": "419fd62a",
   "metadata": {},
   "source": [
    "Police interventions"
   ]
  },
  {
   "cell_type": "code",
   "execution_count": 62,
   "id": "b806c9db",
   "metadata": {
    "ExecuteTime": {
     "end_time": "2023-10-28T12:47:59.877540Z",
     "start_time": "2023-10-28T12:47:59.851564Z"
    }
   },
   "outputs": [],
   "source": [
    "#filter hours with no pleasure rating \n",
    "polindex = dfpol.reset_index()\n",
    "dfpolpart2vlasnotna = polindex[maskvp]['vlasmarkttot']\n",
    "dfpolpart2vlasnotnastads = polindex[maskvp]['stadshaltot']\n",
    "polindexs = polindex.iloc[:44]\n",
    "dfpolpart2stadsnotna = polindexs[masksp]['stadshaltot']\n",
    "dfpolpart2stadsnotnavlas = polindexs[masksp]['vlasmarkttot']\n",
    "#extract timeslots\n",
    "dfpolpart6 = dfpol.loc[(dfpol.index.hour>=0) & (dfpol.index.hour<=8)]\n",
    "dfpolpart7 = dfpol.loc[(dfpol.index.hour>=2) & (dfpol.index.hour<=6)]\n",
    "dfpolpart8 = dfpol.loc[(dfpol.index.hour>=22) | (dfpol.index.hour<=10)]"
   ]
  },
  {
   "cell_type": "markdown",
   "id": "64629549",
   "metadata": {},
   "source": [
    "First aid"
   ]
  },
  {
   "cell_type": "code",
   "execution_count": 25,
   "id": "81fd0885",
   "metadata": {
    "ExecuteTime": {
     "end_time": "2023-10-28T12:10:43.718012Z",
     "start_time": "2023-10-28T12:10:43.669242Z"
    }
   },
   "outputs": [
    {
     "name": "stderr",
     "output_type": "stream",
     "text": [
      "C:\\Users\\laure\\AppData\\Local\\Temp/ipykernel_35564/3642046952.py:18: FutureWarning: Value based partial slicing on non-monotonic DatetimeIndexes with non-existing keys is deprecated and will raise a KeyError in a future Version.\n",
      "  dfrkvlasmarkt2 = dfrkvlasmarkt.loc['2022-07-21 22:00:00':'2022-07-22 08:00:00']\n",
      "C:\\Users\\laure\\AppData\\Local\\Temp/ipykernel_35564/3642046952.py:24: FutureWarning: Value based partial slicing on non-monotonic DatetimeIndexes with non-existing keys is deprecated and will raise a KeyError in a future Version.\n",
      "  dfrkstadshal2 = dfrkstadshal.loc['2022-07-21 14:00:00':'2022-07-22 05:00:00']\n"
     ]
    }
   ],
   "source": [
    "#split up in location\n",
    "dfrkstadshal = dfrk.loc[dfrk['Hub']=='Belfort']\n",
    "dfrkvlasmarkt = dfrk.loc[dfrk['Hub']=='St-Jacobs']\n",
    "\n",
    "#resample per hour and extract timeslots\n",
    "dfrkstadshalh = dfrkstadshal.resample('1H').count()\n",
    "dfrkstadshalh = dfrkstadshalh[['Hub']]\n",
    "dfrkstadshalh = dfrkstadshalh.rename(columns={\"Hub\": \"count\"})\n",
    "dfrkstadshalhpart = dfrkstadshalh.loc['2022-07-20 07:00:00':'2022-07-22 06:00:00']\n",
    "\n",
    "dfrkvlasmarkth = dfrkvlasmarkt.resample('1H').count()\n",
    "dfrkvlasmarkth = dfrkvlasmarkth[['Hub']]\n",
    "dfrkvlasmarkth = dfrkvlasmarkth.rename(columns={\"Hub\": \"count\"})\n",
    "dfrkvlasmarkthpart = dfrkvlasmarkth.loc['2022-07-20 07:00:00':'2022-07-22 06:00:00']\n",
    "\n",
    "#extract timeslots\n",
    "dfrkvlasmarkt1 = dfrkvlasmarkt.loc['2022-07-20 22:00:00':'2022-07-21 07:00:00']\n",
    "dfrkvlasmarkt2 = dfrkvlasmarkt.loc['2022-07-21 22:00:00':'2022-07-22 08:00:00']\n",
    "dfrkvlasmarkt1 = dfrkvlasmarkt1.reset_index()\n",
    "dfrkvlasmarkt2 = dfrkvlasmarkt2.reset_index()\n",
    "\n",
    "#extract timeslots\n",
    "dfrkstadshal1 = dfrkstadshal.loc['2022-07-20 14:00:00':'2022-07-21 05:00:00']\n",
    "dfrkstadshal2 = dfrkstadshal.loc['2022-07-21 14:00:00':'2022-07-22 05:00:00']\n",
    "dfrkstadshal1 = dfrkstadshal1.reset_index()\n",
    "dfrkstadshal2 = dfrkstadshal2.reset_index()\n",
    "\n",
    "#filter hours with no pleasure rating \n",
    "rkvlasindex = dfrkvlasmarkthpart.reset_index()\n",
    "rkvlasparthnotna = rkvlasindex[maskvp]['count']\n",
    "rkstadsindex = dfrkstadshalhpart.iloc[:44].reset_index()\n",
    "rkstadsparthnotna = rkstadsindex[masksp]['count']"
   ]
  },
  {
   "cell_type": "markdown",
   "id": "60b15546",
   "metadata": {},
   "source": [
    "<h2> Correlation</h2>"
   ]
  },
  {
   "cell_type": "code",
   "execution_count": 26,
   "id": "358ca5d6",
   "metadata": {
    "ExecuteTime": {
     "end_time": "2023-10-28T12:10:43.740828Z",
     "start_time": "2023-10-28T12:10:43.718943Z"
    }
   },
   "outputs": [
    {
     "name": "stdout",
     "output_type": "stream",
     "text": [
      "(0.9720041837009396, 4.802946974532639e-28)\n",
      "(-0.6856219452145399, 2.8157086379659505e-07)\n",
      "(0.9030147015582491, 5.2352495666475764e-17)\n",
      "(-0.8005894606841482, 6.876514858189361e-11)\n",
      "(0.8770607265644819, 5.865899201459705e-15)\n",
      "(-0.6007160929906012, 1.623763593957557e-05)\n"
     ]
    }
   ],
   "source": [
    "print(stats.pearsonr(vlashcorr.values,vlasscorr.values))\n",
    "print(stats.pearsonr(vlashcorr.values,vlaspcorr.values))\n",
    "print(stats.pearsonr(vlashcorr.values,vlasccorr.values))\n",
    "print(stats.pearsonr(vlasscorr.values, vlaspcorr.values))\n",
    "print(stats.pearsonr(vlasscorr.values, vlasccorr.values))\n",
    "print(stats.pearsonr(vlaspcorr.values, vlasccorr.values))"
   ]
  },
  {
   "cell_type": "code",
   "execution_count": 27,
   "id": "bbcf51fe",
   "metadata": {
    "ExecuteTime": {
     "end_time": "2023-10-28T12:10:43.769816Z",
     "start_time": "2023-10-28T12:10:43.741330Z"
    }
   },
   "outputs": [
    {
     "name": "stdout",
     "output_type": "stream",
     "text": [
      "(0.9757591260562661, 2.4516928649211e-31)\n",
      "(-0.2731346723975962, 0.06322727539329838)\n",
      "(0.9080236728248628, 1.2844703126973429e-18)\n",
      "(-0.26029406805200006, 0.07722249981405199)\n",
      "(0.888260313525868, 8.279462533071366e-17)\n",
      "(-0.5277477723061665, 0.0001377797459238831)\n"
     ]
    }
   ],
   "source": [
    "print(stats.pearsonr(belforthcorr.values,belfortscorr.values))\n",
    "print(stats.pearsonr(belforthcorr.values,belfortpcorr.values))\n",
    "print(stats.pearsonr(belforthcorr.values,belfortccorr.values))\n",
    "print(stats.pearsonr(belfortscorr.values, belfortpcorr.values))\n",
    "print(stats.pearsonr(belfortscorr.values, belfortccorr.values))\n",
    "print(stats.pearsonr(belfortpcorr.values, belfortccorr.values))"
   ]
  },
  {
   "cell_type": "code",
   "execution_count": 28,
   "id": "2c2100ed",
   "metadata": {
    "ExecuteTime": {
     "end_time": "2023-10-28T12:10:43.785887Z",
     "start_time": "2023-10-28T12:10:43.771514Z"
    }
   },
   "outputs": [
    {
     "name": "stdout",
     "output_type": "stream",
     "text": [
      "(0.9770404505057977, 3.9935897101694754e-27)\n",
      "(-0.8383968491902982, 1.466070262907791e-11)\n",
      "(0.9269208830502237, 9.223004649667533e-18)\n",
      "(-0.878809999790177, 8.949373240615909e-14)\n",
      "(0.9249894311857207, 1.488351626074518e-17)\n",
      "(-0.8870857129063747, 2.5153672537216426e-14)\n"
     ]
    }
   ],
   "source": [
    "print(stats.pearsonr(stadshcorr.values,stadsscorr.values))\n",
    "print(stats.pearsonr(stadshcorr.values,stadspcorr.values))\n",
    "print(stats.pearsonr(stadshcorr.values,stadsccorr.values))\n",
    "print(stats.pearsonr(stadsscorr.values, stadspcorr.values))\n",
    "print(stats.pearsonr(stadsscorr.values, stadsccorr.values))\n",
    "print(stats.pearsonr(stadspcorr.values, stadsccorr.values))"
   ]
  },
  {
   "cell_type": "markdown",
   "id": "40b6b7d5",
   "metadata": {},
   "source": [
    "<h2>Curve similarity</h2>"
   ]
  },
  {
   "cell_type": "code",
   "execution_count": 29,
   "id": "d7dcf108",
   "metadata": {
    "ExecuteTime": {
     "end_time": "2023-10-28T12:10:43.802537Z",
     "start_time": "2023-10-28T12:10:43.788750Z"
    }
   },
   "outputs": [
    {
     "data": {
      "text/plain": [
       "(0.796633261445467, array([0.783, 0.809]))"
      ]
     },
     "execution_count": 29,
     "metadata": {},
     "output_type": "execute_result"
    }
   ],
   "source": [
    "#cronbach alpha\n",
    "pg.cronbach_alpha(data=df[['human','spatialI']])"
   ]
  },
  {
   "cell_type": "code",
   "execution_count": 30,
   "id": "d905c2d9",
   "metadata": {
    "ExecuteTime": {
     "end_time": "2023-10-28T12:10:43.818074Z",
     "start_time": "2023-10-28T12:10:43.804013Z"
    }
   },
   "outputs": [
    {
     "data": {
      "text/plain": [
       "0.7970175563080527"
      ]
     },
     "execution_count": 30,
     "metadata": {},
     "output_type": "execute_result"
    }
   ],
   "source": [
    "#Spearman-Brown\n",
    "from scipy.stats import pearsonr\n",
    "dfsb = df[['human','spatialI']]\n",
    "split_num = int((int(len(dfsb.columns)) if ((int(len(dfsb.columns)) % 2) == 0) else int(len(dfsb.columns)+1) ) / 2 )\n",
    "dfsx = np.split(dfsb, [split_num], axis=1)\n",
    "pearson = pearsonr(dfsx[0].mean(axis=1),dfsx[1].mean(axis=1))[0]\n",
    "spearman_brown = (2*pearson)/(1+pearson)\n",
    "spearman_brown"
   ]
  },
  {
   "cell_type": "code",
   "execution_count": 31,
   "id": "94bd1f71",
   "metadata": {
    "ExecuteTime": {
     "end_time": "2023-10-28T12:10:43.902611Z",
     "start_time": "2023-10-28T12:10:43.820162Z"
    }
   },
   "outputs": [
    {
     "name": "stdout",
     "output_type": "stream",
     "text": [
      "***Belfortstraat\n",
      "spatial - human\n",
      "frechet distance\n",
      "1.0302480542143735 1.965727713696567\n",
      "area\n",
      "23.813716895753895 51.26227975054658\n",
      "dtw\n",
      "23.968058027190697 51.31703538331275\n",
      "***Stadshal\n",
      "spatial - human\n",
      "frechet distance\n",
      "2.1014434628555847 1.4747682590570244\n",
      "area\n",
      "18.051871297447796 29.439626905405103\n",
      "dtw\n",
      "16.504801635008427 26.391139920778066\n",
      "***Vlasmarkt\n",
      "spatial - human\n",
      "frechet distance\n",
      "1.2470948534061197 1.5085039462466363\n",
      "area\n",
      "18.75411978947518 30.11357261720054\n",
      "dtw\n",
      "18.563978764433028 28.432815637082683\n"
     ]
    }
   ],
   "source": [
    "#similarity measures\n",
    "print('***Belfortstraat')\n",
    "print('spatial - human')\n",
    "print('frechet distance') \n",
    "print(similaritymeasures.frechet_dist(belfortssimval, belfortcsimval),similaritymeasures.frechet_dist(belforthsimval, belfortcsimval))\n",
    "print('area')\n",
    "print(similaritymeasures.area_between_two_curves(belfortssimval, belfortcsimval),similaritymeasures.area_between_two_curves(belforthsimval, belfortcsimval))\n",
    "print('dtw')\n",
    "print(similaritymeasures.dtw(belfortssimval, belfortcsimval)[0],similaritymeasures.dtw(belforthsimval, belfortcsimval)[0])\n",
    "\n",
    "print('***Stadshal')\n",
    "print('spatial - human')\n",
    "print('frechet distance')\n",
    "print(similaritymeasures.frechet_dist(stadsssimval, stadscsimval),similaritymeasures.frechet_dist(stadshsimval, stadscsimval))\n",
    "print('area')\n",
    "print(similaritymeasures.area_between_two_curves(stadsssimval, stadscsimval),similaritymeasures.area_between_two_curves(stadshsimval, stadscsimval))\n",
    "print('dtw')\n",
    "print(similaritymeasures.dtw(stadsssimval, stadscsimval)[0],similaritymeasures.dtw(stadshsimval, stadscsimval)[0])\n",
    "\n",
    "print('***Vlasmarkt')\n",
    "print('spatial - human')\n",
    "print('frechet distance')\n",
    "print(similaritymeasures.frechet_dist(vlasssimval, vlascsimval),similaritymeasures.frechet_dist(vlashsimval, vlascsimval))\n",
    "print('area')\n",
    "print(similaritymeasures.area_between_two_curves(vlasssimval, vlascsimval),similaritymeasures.area_between_two_curves(vlashsimval, vlascsimval))\n",
    "print('dtw')\n",
    "print(similaritymeasures.dtw(vlasssimval, vlascsimval)[0],similaritymeasures.dtw(vlashsimval, vlascsimval)[0])\n"
   ]
  },
  {
   "cell_type": "markdown",
   "id": "823841bb",
   "metadata": {},
   "source": [
    "<h2> Police interventions </h2>"
   ]
  },
  {
   "cell_type": "markdown",
   "id": "8525863b",
   "metadata": {},
   "source": [
    "Correlation between sensor data and police interventions"
   ]
  },
  {
   "cell_type": "code",
   "execution_count": 33,
   "id": "f2f82ed7",
   "metadata": {
    "ExecuteTime": {
     "end_time": "2023-10-28T12:10:43.936125Z",
     "start_time": "2023-10-28T12:10:43.919812Z"
    }
   },
   "outputs": [
    {
     "data": {
      "text/plain": [
       "(0.41642750970624426, 0.003239440358678376)"
      ]
     },
     "execution_count": 33,
     "metadata": {},
     "output_type": "execute_result"
    }
   ],
   "source": [
    "stats.pearsonr(dfs['Stadshal'],dfpol['stadshaltot'])"
   ]
  },
  {
   "cell_type": "code",
   "execution_count": 68,
   "id": "5d10d2d4",
   "metadata": {
    "ExecuteTime": {
     "end_time": "2023-10-28T12:50:52.939580Z",
     "start_time": "2023-10-28T12:50:52.926250Z"
    }
   },
   "outputs": [
    {
     "data": {
      "text/plain": [
       "(0.12647204874554024, 0.3916803403456547)"
      ]
     },
     "execution_count": 68,
     "metadata": {},
     "output_type": "execute_result"
    }
   ],
   "source": [
    "stats.pearsonr(dfs['Stadshal'],dfpol['belforttot'])"
   ]
  },
  {
   "cell_type": "code",
   "execution_count": 69,
   "id": "b94fab22",
   "metadata": {
    "ExecuteTime": {
     "end_time": "2023-10-28T12:51:03.667896Z",
     "start_time": "2023-10-28T12:51:03.647359Z"
    }
   },
   "outputs": [
    {
     "data": {
      "text/plain": [
       "(-0.1298060030267809, 0.3792141782233119)"
      ]
     },
     "execution_count": 69,
     "metadata": {},
     "output_type": "execute_result"
    }
   ],
   "source": [
    "stats.pearsonr(dfs['Stadshal'],dfpol['vlasmarkttot'])"
   ]
  },
  {
   "cell_type": "code",
   "execution_count": 65,
   "id": "e1520afa",
   "metadata": {
    "ExecuteTime": {
     "end_time": "2023-10-28T12:49:35.972009Z",
     "start_time": "2023-10-28T12:49:35.952285Z"
    }
   },
   "outputs": [
    {
     "data": {
      "text/plain": [
       "(0.2741196547681011, 0.05937761917824084)"
      ]
     },
     "execution_count": 65,
     "metadata": {},
     "output_type": "execute_result"
    }
   ],
   "source": [
    "stats.pearsonr(dfs['Commissariaat'],dfpol['stadshaltot'])"
   ]
  },
  {
   "cell_type": "code",
   "execution_count": 34,
   "id": "052a9e49",
   "metadata": {
    "ExecuteTime": {
     "end_time": "2023-10-28T12:10:43.952750Z",
     "start_time": "2023-10-28T12:10:43.938031Z"
    }
   },
   "outputs": [
    {
     "data": {
      "text/plain": [
       "(0.31890234502119386, 0.027159590549363417)"
      ]
     },
     "execution_count": 34,
     "metadata": {},
     "output_type": "execute_result"
    }
   ],
   "source": [
    "stats.pearsonr(dfs['Commissariaat'],dfpol['belforttot'])"
   ]
  },
  {
   "cell_type": "code",
   "execution_count": 64,
   "id": "0fbd5200",
   "metadata": {
    "ExecuteTime": {
     "end_time": "2023-10-28T12:49:29.815403Z",
     "start_time": "2023-10-28T12:49:29.795363Z"
    }
   },
   "outputs": [
    {
     "data": {
      "text/plain": [
       "(0.23251074959430235, 0.11176709191270641)"
      ]
     },
     "execution_count": 64,
     "metadata": {},
     "output_type": "execute_result"
    }
   ],
   "source": [
    "stats.pearsonr(dfs['Commissariaat'],dfpol['vlasmarkttot'])"
   ]
  },
  {
   "cell_type": "code",
   "execution_count": 66,
   "id": "4df3c4d9",
   "metadata": {
    "ExecuteTime": {
     "end_time": "2023-10-28T12:50:05.170061Z",
     "start_time": "2023-10-28T12:50:05.143361Z"
    }
   },
   "outputs": [
    {
     "data": {
      "text/plain": [
       "(0.1310093987071425, 0.37477314081706165)"
      ]
     },
     "execution_count": 66,
     "metadata": {},
     "output_type": "execute_result"
    }
   ],
   "source": [
    "stats.pearsonr(dfs['Vlasmarkt'],dfpol['stadshaltot'])"
   ]
  },
  {
   "cell_type": "code",
   "execution_count": 35,
   "id": "e39a600c",
   "metadata": {
    "ExecuteTime": {
     "end_time": "2023-10-28T12:10:43.969474Z",
     "start_time": "2023-10-28T12:10:43.954682Z"
    }
   },
   "outputs": [
    {
     "data": {
      "text/plain": [
       "(0.6605198977270822, 3.248170945717705e-07)"
      ]
     },
     "execution_count": 35,
     "metadata": {},
     "output_type": "execute_result"
    }
   ],
   "source": [
    "stats.pearsonr(dfs['Vlasmarkt'],dfpol['belforttot'])"
   ]
  },
  {
   "cell_type": "code",
   "execution_count": 67,
   "id": "0f0e0492",
   "metadata": {
    "ExecuteTime": {
     "end_time": "2023-10-28T12:50:27.397274Z",
     "start_time": "2023-10-28T12:50:27.376903Z"
    }
   },
   "outputs": [
    {
     "data": {
      "text/plain": [
       "(0.6666199208946078, 2.3093684027525596e-07)"
      ]
     },
     "execution_count": 67,
     "metadata": {},
     "output_type": "execute_result"
    }
   ],
   "source": [
    "stats.pearsonr(dfs['Vlasmarkt'],dfpol['vlasmarkttot'])"
   ]
  },
  {
   "cell_type": "markdown",
   "id": "f0b0f121",
   "metadata": {},
   "source": [
    "Correlation between pleasure ratings and police interventions"
   ]
  },
  {
   "cell_type": "code",
   "execution_count": 70,
   "id": "c8fe92e0",
   "metadata": {
    "ExecuteTime": {
     "end_time": "2023-10-28T12:52:45.913333Z",
     "start_time": "2023-10-28T12:52:45.900154Z"
    }
   },
   "outputs": [
    {
     "data": {
      "text/plain": [
       "(-0.2936262255955314, 0.06592428582647354)"
      ]
     },
     "execution_count": 70,
     "metadata": {},
     "output_type": "execute_result"
    }
   ],
   "source": [
    "stats.pearsonr(stadspcorr,dfpolpart2stadsnotna)"
   ]
  },
  {
   "cell_type": "code",
   "execution_count": 71,
   "id": "6cb0b8de",
   "metadata": {
    "ExecuteTime": {
     "end_time": "2023-10-28T12:53:06.828889Z",
     "start_time": "2023-10-28T12:53:06.813027Z"
    }
   },
   "outputs": [
    {
     "data": {
      "text/plain": [
       "(-0.25129096743959056, 0.11778843910323071)"
      ]
     },
     "execution_count": 71,
     "metadata": {},
     "output_type": "execute_result"
    }
   ],
   "source": [
    "stats.pearsonr(stadspcorr,dfpolpart2stadsnotnavlas)"
   ]
  },
  {
   "cell_type": "code",
   "execution_count": 72,
   "id": "20650697",
   "metadata": {
    "ExecuteTime": {
     "end_time": "2023-10-28T12:54:26.318740Z",
     "start_time": "2023-10-28T12:54:26.298920Z"
    }
   },
   "outputs": [
    {
     "data": {
      "text/plain": [
       "(-0.2294123530973651, 0.13413305281416982)"
      ]
     },
     "execution_count": 72,
     "metadata": {},
     "output_type": "execute_result"
    }
   ],
   "source": [
    "stats.pearsonr(vlaspcorr,dfpolpart2vlasnotnastads)"
   ]
  },
  {
   "cell_type": "code",
   "execution_count": 36,
   "id": "c7d90207",
   "metadata": {
    "ExecuteTime": {
     "end_time": "2023-10-28T12:10:43.986060Z",
     "start_time": "2023-10-28T12:10:43.971273Z"
    }
   },
   "outputs": [
    {
     "data": {
      "text/plain": [
       "(-0.6400695617455903, 2.8903302196162166e-06)"
      ]
     },
     "execution_count": 36,
     "metadata": {},
     "output_type": "execute_result"
    }
   ],
   "source": [
    "stats.pearsonr(vlaspcorr,dfpolpart2vlasnotna)"
   ]
  },
  {
   "cell_type": "markdown",
   "id": "8297d237",
   "metadata": {
    "ExecuteTime": {
     "end_time": "2023-03-01T13:27:46.341974Z",
     "start_time": "2023-03-01T13:27:46.331207Z"
    }
   },
   "source": [
    "<h2> First aid </h2>"
   ]
  },
  {
   "cell_type": "markdown",
   "id": "708d6c53",
   "metadata": {},
   "source": [
    "Correlation between sensor data and first aid"
   ]
  },
  {
   "cell_type": "code",
   "execution_count": 38,
   "id": "71e1092f",
   "metadata": {
    "ExecuteTime": {
     "end_time": "2023-10-28T12:10:44.035742Z",
     "start_time": "2023-10-28T12:10:44.008366Z"
    }
   },
   "outputs": [
    {
     "data": {
      "text/plain": [
       "(0.598368165428546, 7.061026449133967e-06)"
      ]
     },
     "execution_count": 38,
     "metadata": {},
     "output_type": "execute_result"
    }
   ],
   "source": [
    "stats.pearsonr(dfs['Vlasmarkt'],dfrkvlasmarkthpart['count'])"
   ]
  },
  {
   "cell_type": "code",
   "execution_count": 39,
   "id": "8f1957da",
   "metadata": {
    "ExecuteTime": {
     "end_time": "2023-10-28T12:10:44.052920Z",
     "start_time": "2023-10-28T12:10:44.039270Z"
    }
   },
   "outputs": [
    {
     "data": {
      "text/plain": [
       "(0.8300531896623111, 3.0127524551029314e-13)"
      ]
     },
     "execution_count": 39,
     "metadata": {},
     "output_type": "execute_result"
    }
   ],
   "source": [
    "stats.pearsonr(dfs['Stadshal'],dfrkstadshalhpart['count'])"
   ]
  },
  {
   "cell_type": "code",
   "execution_count": 40,
   "id": "14192ae5",
   "metadata": {
    "ExecuteTime": {
     "end_time": "2023-10-28T12:10:44.070677Z",
     "start_time": "2023-10-28T12:10:44.054923Z"
    }
   },
   "outputs": [
    {
     "data": {
      "text/plain": [
       "(-0.45381460146500335, 0.0019745398714082806)"
      ]
     },
     "execution_count": 40,
     "metadata": {},
     "output_type": "execute_result"
    }
   ],
   "source": [
    "stats.pearsonr(vlaspcorr,rkvlasparthnotna)"
   ]
  },
  {
   "cell_type": "code",
   "execution_count": 41,
   "id": "735af77d",
   "metadata": {
    "ExecuteTime": {
     "end_time": "2023-10-28T12:10:44.086448Z",
     "start_time": "2023-10-28T12:10:44.073245Z"
    }
   },
   "outputs": [
    {
     "data": {
      "text/plain": [
       "(-0.6404385055930817, 8.554189850372849e-06)"
      ]
     },
     "execution_count": 41,
     "metadata": {},
     "output_type": "execute_result"
    }
   ],
   "source": [
    "stats.pearsonr(stadspcorr,rkstadsparthnotna)"
   ]
  },
  {
   "cell_type": "markdown",
   "id": "71ce1109",
   "metadata": {},
   "source": [
    "Simple indicators"
   ]
  },
  {
   "cell_type": "code",
   "execution_count": 42,
   "id": "f8390845",
   "metadata": {
    "ExecuteTime": {
     "end_time": "2023-10-28T12:10:44.104332Z",
     "start_time": "2023-10-28T12:10:44.089733Z"
    }
   },
   "outputs": [
    {
     "name": "stdout",
     "output_type": "stream",
     "text": [
      "day 1\n",
      "first quantile at accident index:\n",
      "12.0\n",
      "second quantile at accident index:\n",
      "24.0\n",
      "third quantile at accident index:\n",
      "36.0\n",
      "day 2\n",
      "first quantile at accident index:\n",
      "6.25\n",
      "second quantile at accident index:\n",
      "12.5\n",
      "third quantile at accident index:\n",
      "18.75\n"
     ]
    }
   ],
   "source": [
    "#Vlasmarkt\n",
    "print('day 1')\n",
    "print('first quantile at accident index:')\n",
    "print(len(dfrkvlasmarkt1)*25/100)\n",
    "print('second quantile at accident index:')\n",
    "print(len(dfrkvlasmarkt1)*50/100)\n",
    "print('third quantile at accident index:')\n",
    "print(len(dfrkvlasmarkt1)*75/100)\n",
    "print('day 2')\n",
    "print('first quantile at accident index:')\n",
    "print(len(dfrkvlasmarkt2)*25/100)\n",
    "print('second quantile at accident index:')\n",
    "print(len(dfrkvlasmarkt2)*50/100)\n",
    "print('third quantile at accident index:')\n",
    "print(len(dfrkvlasmarkt2)*75/100)"
   ]
  },
  {
   "cell_type": "code",
   "execution_count": 43,
   "id": "ac3ab3f6",
   "metadata": {
    "ExecuteTime": {
     "end_time": "2023-10-28T12:10:44.120554Z",
     "start_time": "2023-10-28T12:10:44.104962Z"
    }
   },
   "outputs": [
    {
     "name": "stdout",
     "output_type": "stream",
     "text": [
      "day 1\n",
      "first quantile minute = start pleasure drop\n",
      "2022-07-20 23:57:00\n",
      "second quantile minute\n",
      "2022-07-21 01:31:00\n",
      "third quantile minute = nadir pleasure drop\n",
      "2022-07-21 04:12:00\n",
      "nightly timespan\n",
      "0 days 04:15:00\n",
      "day 2\n",
      "first quantile minute = start pleasure drop\n",
      "2022-07-22 00:00:00\n",
      "second quantile minute\n",
      "2022-07-22 02:00:00\n",
      "third quantile minute = nadir pleasure drop\n",
      "2022-07-22 03:10:00\n",
      "nightly timespan\n",
      "0 days 03:10:00\n"
     ]
    }
   ],
   "source": [
    "print('day 1')\n",
    "print('first quantile minute = start pleasure drop')\n",
    "print(dfrkvlasmarkt1.loc[11, 'Timestamp']) \n",
    "print('second quantile minute')\n",
    "print(dfrkvlasmarkt1.loc[23, 'Timestamp'])\n",
    "print('third quantile minute = nadir pleasure drop')\n",
    "print(dfrkvlasmarkt1.loc[35, 'Timestamp'])\n",
    "print('nightly timespan')\n",
    "print(dfrkvlasmarkt1.loc[35, 'Timestamp'] - dfrkvlasmarkt1.loc[11, 'Timestamp'])\n",
    "print('day 2')\n",
    "print('first quantile minute = start pleasure drop')\n",
    "print(dfrkvlasmarkt2.loc[5, 'Timestamp'])\n",
    "print('second quantile minute')\n",
    "print(dfrkvlasmarkt2.loc[11, 'Timestamp'])\n",
    "print('third quantile minute = nadir pleasure drop')\n",
    "print(dfrkvlasmarkt2.loc[17, 'Timestamp'])\n",
    "print('nightly timespan')\n",
    "print(dfrkvlasmarkt2.loc[17, 'Timestamp'] - dfrkvlasmarkt2.loc[5, 'Timestamp'])"
   ]
  },
  {
   "cell_type": "code",
   "execution_count": 44,
   "id": "981ab4ff",
   "metadata": {
    "ExecuteTime": {
     "end_time": "2023-10-28T12:10:44.137065Z",
     "start_time": "2023-10-28T12:10:44.121976Z"
    }
   },
   "outputs": [
    {
     "name": "stdout",
     "output_type": "stream",
     "text": [
      "day 1\n",
      "first quantile at accident index:\n",
      "27.25\n",
      "second quantile at accident index:\n",
      "54.5\n",
      "third quantile at accident index:\n",
      "81.75\n",
      "day 2\n",
      "first quantile at accident index:\n",
      "27.5\n",
      "second quantile at accident index:\n",
      "55.0\n",
      "third quantile at accident index:\n",
      "82.5\n"
     ]
    }
   ],
   "source": [
    "#Stadshal\n",
    "print('day 1')\n",
    "print('first quantile at accident index:')\n",
    "print(len(dfrkstadshal1)*25/100)\n",
    "print('second quantile at accident index:')\n",
    "print(len(dfrkstadshal1)*50/100)\n",
    "print('third quantile at accident index:')\n",
    "print(len(dfrkstadshal1)*75/100)\n",
    "print('day 2')\n",
    "print('first quantile at accident index:')\n",
    "print(len(dfrkstadshal2)*25/100)\n",
    "print('second quantile at accident index:')\n",
    "print(len(dfrkstadshal2)*50/100)\n",
    "print('third quantile at accident index:')\n",
    "print(len(dfrkstadshal2)*75/100)"
   ]
  },
  {
   "cell_type": "code",
   "execution_count": 45,
   "id": "12f9fc8e",
   "metadata": {
    "ExecuteTime": {
     "end_time": "2023-10-28T12:10:44.170788Z",
     "start_time": "2023-10-28T12:10:44.138777Z"
    },
    "scrolled": true
   },
   "outputs": [
    {
     "name": "stdout",
     "output_type": "stream",
     "text": [
      "day 1\n",
      "first quantile minute = 1h after start pleasure drop\n",
      "2022-07-20 20:57:00\n",
      "second quantile minute = nadir pleasure drop\n",
      "2022-07-20 23:54:00\n",
      "third quantile minute\n",
      "2022-07-21 02:18:00\n",
      "nightly timespan\n",
      "0 days 05:21:00\n",
      "day 2\n",
      "first quantile minute = 1h after start pleasure drop\n",
      "2022-07-21 18:09:00\n",
      "second quantile minute = 1 uur before nadir pleasure drop\n",
      "2022-07-21 20:57:00\n",
      "third quantile minute\n",
      "2022-07-22 00:17:00\n",
      "nightly timespan\n",
      "0 days 06:08:00\n"
     ]
    }
   ],
   "source": [
    "print('day 1')\n",
    "print('first quantile minute = 1h after start pleasure drop')\n",
    "print(dfrkstadshal1.loc[26, 'Timestamp']) \n",
    "print('second quantile minute = nadir pleasure drop')\n",
    "print(dfrkstadshal1.loc[53, 'Timestamp'])\n",
    "print('third quantile minute')\n",
    "print(dfrkstadshal1.loc[80, 'Timestamp'])\n",
    "print('nightly timespan')\n",
    "print(dfrkstadshal1.loc[80, 'Timestamp'] - dfrkstadshal1.loc[26, 'Timestamp'])\n",
    "print('day 2')\n",
    "print('first quantile minute = 1h after start pleasure drop')\n",
    "print(dfrkstadshal2.loc[26, 'Timestamp'])\n",
    "print('second quantile minute = 1 uur before nadir pleasure drop')\n",
    "print(dfrkstadshal2.loc[54, 'Timestamp'])\n",
    "print('third quantile minute')\n",
    "print(dfrkstadshal2.loc[81, 'Timestamp'])\n",
    "print('nightly timespan')\n",
    "print(dfrkstadshal2.loc[81, 'Timestamp'] - dfrkstadshal2.loc[26, 'Timestamp'])"
   ]
  },
  {
   "cell_type": "markdown",
   "id": "188cdd24",
   "metadata": {},
   "source": [
    "Word clouds injuries"
   ]
  },
  {
   "cell_type": "code",
   "execution_count": 46,
   "id": "7e758183",
   "metadata": {
    "ExecuteTime": {
     "end_time": "2023-10-28T12:10:50.661894Z",
     "start_time": "2023-10-28T12:10:44.171530Z"
    }
   },
   "outputs": [],
   "source": [
    "#Translate injuries for word clouds\n",
    "nl = list(dfrk['Injury'].unique())\n",
    "translated = GoogleTranslator(source='nl', target='en').translate_batch(nl)\n",
    "d={}\n",
    "for index, woord in enumerate(nl):\n",
    "    d[woord]=translated[index]"
   ]
  },
  {
   "cell_type": "code",
   "execution_count": 47,
   "id": "3a69836e",
   "metadata": {
    "ExecuteTime": {
     "end_time": "2023-10-28T12:10:50.930536Z",
     "start_time": "2023-10-28T12:10:50.664172Z"
    }
   },
   "outputs": [
    {
     "data": {
      "text/plain": [
       "(-0.5, 399.5, 199.5, -0.5)"
      ]
     },
     "execution_count": 47,
     "metadata": {},
     "output_type": "execute_result"
    },
    {
     "data": {
      "image/png": "[encoded data removed]",
      "text/plain": [
       "<Figure size 432x288 with 1 Axes>"
      ]
     },
     "metadata": {
      "needs_background": "light"
     },
     "output_type": "display_data"
    }
   ],
   "source": [
    "#Generate wordclouds of injuries at Vlasmarkt\n",
    "text_wordcloud = ''\n",
    "for word in dfrkvlasmarkt['Injury'].values:\n",
    "    #wordsplit = re.split(' |/', word)\n",
    "    wordtransl = d[word]\n",
    "    text_wordcloud+=wordtransl+' '\n",
    "wordcloud = WordCloud(background_color=\"white\", collocations=False).generate(text_wordcloud.lower())\n",
    "plt.imshow(wordcloud, interpolation='bilinear')\n",
    "plt.axis(\"off\")\n",
    "#plt.savefig('wordcloudvlas.png')"
   ]
  },
  {
   "cell_type": "code",
   "execution_count": 48,
   "id": "29afef13",
   "metadata": {
    "ExecuteTime": {
     "end_time": "2023-10-28T12:10:51.168941Z",
     "start_time": "2023-10-28T12:10:50.931036Z"
    }
   },
   "outputs": [
    {
     "data": {
      "text/plain": [
       "(-0.5, 399.5, 199.5, -0.5)"
      ]
     },
     "execution_count": 48,
     "metadata": {},
     "output_type": "execute_result"
    },
    {
     "data": {
      "image/png": "[encoded data removed]",
      "text/plain": [
       "<Figure size 432x288 with 1 Axes>"
      ]
     },
     "metadata": {
      "needs_background": "light"
     },
     "output_type": "display_data"
    }
   ],
   "source": [
    "#Generate wordclouds of injuries at Stadshal\n",
    "text_wordcloud = ''\n",
    "for word in dfrkstadshal['Injury'].values:\n",
    "    #wordsplit = re.split(' |/', word)\n",
    "    wordtransl = d[word]\n",
    "    text_wordcloud+=wordtransl+' '\n",
    "wordcloud = WordCloud(background_color=\"white\", collocations=False).generate(text_wordcloud.lower())\n",
    "plt.imshow(wordcloud, interpolation='bilinear')\n",
    "plt.axis(\"off\")\n",
    "#plt.savefig('wordcloudstads.png')"
   ]
  }
 ],
 "metadata": {
  "kernelspec": {
   "display_name": "Python 3 (ipykernel)",
   "language": "python",
   "name": "python3"
  },
  "language_info": {
   "codemirror_mode": {
    "name": "ipython",
    "version": 3
   },
   "file_extension": ".py",
   "mimetype": "text/x-python",
   "name": "python",
   "nbconvert_exporter": "python",
   "pygments_lexer": "ipython3",
   "version": "3.9.9"
  }
 },
 "nbformat": 4,
 "nbformat_minor": 5
}
